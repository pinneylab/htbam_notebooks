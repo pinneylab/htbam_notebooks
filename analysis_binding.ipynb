{
 "cells": [
  {
   "cell_type": "markdown",
   "metadata": {},
   "source": [
    "# Analysis Template: Michaelis-Menten Kinetics\n",
    "Updated 11/19/2024 JSZ"
   ]
  },
  {
   "cell_type": "code",
   "execution_count": null,
   "metadata": {},
   "outputs": [],
   "source": [
    "#enables autoreloding of modules\n",
    "%load_ext autoreload\n",
    "%autoreload 2\n",
    "\n",
    "import numpy as np\n",
    "import pandas as pd\n",
    "from scipy.stats import linregress\n",
    "from matplotlib import pyplot as plt \n",
    "from seaborn import color_palette, stripplot\n",
    "from scipy.optimize import minimize, root_scalar\n",
    "\n",
    "from kinetics.functions import *\n",
    "from kinetics.interactive import plot_data, plot_data_and_fits\n",
    "from kinetixsimulator.chemicalkinetics import KineticModel, MMReaction, ReversibleReaction\n",
    "from kinetixsimulator.guis import ProgressCurveGUI\n",
    "\n",
    "plt.rcParams['axes.spines.top'] = False\n",
    "plt.rcParams['axes.spines.right'] = False\n",
    "plt.rcParams['font.family'] = 'Helvetica'\n",
    "\n",
    "import warnings\n",
    "warnings.filterwarnings(\"ignore\")"
   ]
  },
  {
   "cell_type": "markdown",
   "metadata": {},
   "source": [
    "## Load expression data"
   ]
  },
  {
   "cell_type": "code",
   "execution_count": null,
   "metadata": {},
   "outputs": [],
   "source": [
    "expression_df = pd.read_csv('./_data/button_quant.csv')\n",
    "expression_df['enzyme_conc'] = expression_df['summed_button_BGsub'] / 91900.03\n",
    "\n",
    "fig, ax = plt.subplots(figsize=(6,4))\n",
    "_ = stripplot(data=expression_df.sort_values('id'), x='id', y='enzyme_conc', palette='husl', ax=ax)\n",
    "\n",
    "ax.set_ylabel('[eGFP] (nM)')\n",
    "ax.set_xlabel('')\n",
    "_ = ax.set_xticklabels(ax.get_xticklabels(), rotation=75)"
   ]
  },
  {
   "cell_type": "markdown",
   "metadata": {},
   "source": [
    "## Load binding data"
   ]
  },
  {
   "cell_type": "code",
   "execution_count": null,
   "metadata": {},
   "outputs": [],
   "source": [
    "bait_file = '' # path to csv file for the bait signal generated in processing\n",
    "bait_df = pd.read_csv(bait_file)\n",
    "postwash_mask = bait_df['series_index'] == 'post_wash_bait' # only care about postwash bait intensity here\n",
    "\n",
    "prey_file = ''\n",
    "prey_df = pd.read_csv(prey_file)\n",
    "prey_df['r'] = prey_df['summed_button_BGsub'].to_numpy() / np.hstack([bait_df[postwash_mask]['summed_button_BGsub'].to_numpy()])"
   ]
  },
  {
   "cell_type": "markdown",
   "metadata": {},
   "source": [
    "## Remove chambers with low expression"
   ]
  },
  {
   "cell_type": "code",
   "execution_count": null,
   "metadata": {},
   "outputs": [],
   "source": [
    "def transform_mask(mask, n_conc=7):\n",
    "    transformed_mask = np.vstack([mask.to_numpy()] * n_conc).T.flatten()\n",
    "    return transformed_mask.squeeze()\n",
    "    \n",
    "\n",
    "# get dataframe mask to remove low-expressing chambers \n",
    "expression_filter = expression_df['enzyme_conc'] > 1\n",
    "\n",
    "# need to transform the mask so it matches the dimensions of prey_df\n",
    "transformed_expression_filter = transform_mask(expression_filter, n_conc=7)\n",
    "\n",
    "# apply the mask\n",
    "prey_df = prey_df[transformed_expression_filter]"
   ]
  },
  {
   "cell_type": "markdown",
   "metadata": {},
   "source": [
    "## Fit a Kd to each chamber"
   ]
  },
  {
   "cell_type": "code",
   "execution_count": null,
   "metadata": {},
   "outputs": [],
   "source": [
    "def calculate_z_scores(data):\n",
    "    mean, std = np.nanmean(data), np.nanstd(data)\n",
    "    z = np.abs((data - mean) / std)\n",
    "    return z\n",
    "\n",
    "\n",
    "def binding_model(l: np.ndarray, rmax: float, kd: float):\n",
    "    return rmax * l / (kd + l)\n",
    "\n",
    "\n",
    "def fit_kd_main(fixed_rmax=None, variants_to_fit=[]):\n",
    "\n",
    "\n",
    "    def std_err_from_hess_inv(hess_inv): return np.sqrt(np.diag(hess_inv))\n",
    "\n",
    "\n",
    "    def get_objective(l: np.ndarray, r: np.ndarray):\n",
    "        \"\"\" \n",
    "        Implements a non-global fitting of Kd.\n",
    "        \"\"\"\n",
    "\n",
    "        def objective(x):\n",
    "            rmax, kd = x\n",
    "            yhat = binding_model(l.flatten(), rmax, kd)\n",
    "            residuals = yhat - r.flatten()\n",
    "            return (residuals**2).sum()\n",
    "        \n",
    "        return objective\n",
    "        \n",
    "\n",
    "    def aggregate_chamber_data(group):\n",
    "\n",
    "        key = 'r'\n",
    "        intensities = group[key].to_list()\n",
    "        concentrations = group['time_s'].to_list()\n",
    "        x, y = group['x'].to_list()[0], group['y'].to_list()[0]\n",
    "        id = group['id'].to_list()[0]\n",
    "            \n",
    "\n",
    "        out = {\n",
    "            'x': x,\n",
    "            'y': y,\n",
    "            'concentrations': concentrations,\n",
    "            'intensities': intensities,\n",
    "            'id': id\n",
    "        }\n",
    "\n",
    "        return pd.Series(out)\n",
    "\n",
    "    if len(variants_to_fit) > 0:\n",
    "        mask = prey_df['id'].isin(variants_to_fit)\n",
    "    else:\n",
    "        mask = np.array([True] * len(prey_df))\n",
    "\n",
    "    data = prey_df[mask].groupby(by=['x', 'y']).apply(aggregate_chamber_data).reset_index(drop=True)\n",
    "\n",
    "    chamber_fit_df = []\n",
    "    for l, r in zip(np.vstack(data['concentrations'].to_list()), np.vstack(data['intensities'].to_list())):\n",
    "\n",
    "        objective = get_objective(l, r)\n",
    "\n",
    "        if fixed_rmax:\n",
    "            rmax, rmax_std_err = fixed_rmax, 1\n",
    "            objective_wrapper = lambda kd: objective([fixed_rmax, kd])\n",
    "            fit = minimize(objective_wrapper, np.array(1))\n",
    "            kd_std_err = std_err_from_hess_inv(fit.hess_inv)\n",
    "            kd = fit.x[0]\n",
    "\n",
    "        else:\n",
    "            objective_wrapper = objective\n",
    "            fit = minimize(objective_wrapper, np.array([0.5, 1]))\n",
    "            rmax_std_err, kd_std_err = std_err_from_hess_inv(fit.hess_inv)\n",
    "            rmax, kd = fit.x\n",
    "\n",
    "        chamber_fit_df.append({'rmax': rmax, 'rmax_std_err': rmax_std_err, 'kd': kd, 'kd_std_err': kd_std_err})\n",
    "    chamber_fit_df = pd.DataFrame(chamber_fit_df)\n",
    "    chamber_fit_df['id'] = data['id']\n",
    "    chamber_fit_df['x'] = data['x']\n",
    "    chamber_fit_df['y'] = data['y']\n",
    "\n",
    "    return chamber_fit_df\n",
    "\n",
    "\n",
    "def group_chamber_fit_df(chamber_fit_df):\n",
    "\n",
    "    def aggregate_mutants(group):\n",
    "\n",
    "        id = group['id'].to_list()[0]\n",
    "        rmax = group['rmax'].to_numpy()\n",
    "        kd = group['kd'].to_numpy()\n",
    "\n",
    "        if len(kd) > 1:\n",
    "            z_kd = calculate_z_scores(kd)\n",
    "            z_score_filter = z_kd < 3\n",
    "\n",
    "            kd, rmax = kd[z_score_filter], rmax[z_score_filter]\n",
    "            kd_mean, rmax_mean = np.nanmean(kd), np.nanmean(rmax)\n",
    "            kd_stderr, rmax_stderr = np.nanstd(kd) / (len(kd)**0.5), np.nanstd(rmax) / (len(rmax)**0.5)\n",
    "            kd_ci, rmax_ci = np.array([kd_mean - (1.96 * kd_stderr), kd_mean + (1.96 * kd_stderr)]), np.array([rmax_mean - (1.96 * rmax_stderr), rmax_mean + (1.96 * rmax_stderr)])\n",
    "\n",
    "        else:\n",
    "            kd_mean, rmax_mean = kd[0], rmax[0]\n",
    "            kd_ci = [np.nan, np.nan]\n",
    "            rmax_ci = [np.nan, np.nan]\n",
    "\n",
    "        out = {'id': id, 'rmax': rmax_mean, 'rmax_ci': rmax_ci, 'kd': kd_mean, 'kd_ci': kd_ci}\n",
    "\n",
    "        return pd.Series(out)\n",
    "\n",
    "    return chamber_fit_df.groupby(by='id').apply(aggregate_mutants).reset_index(drop=True)"
   ]
  },
  {
   "cell_type": "code",
   "execution_count": null,
   "metadata": {},
   "outputs": [],
   "source": [
    "# fit a Kd value to each chamber\n",
    "# returns a dataframe containing fits for each chamber\n",
    "chamber_fit_df = fit_kd_main()\n",
    "\n",
    "# aggregate fits for each mutant, get a mean/stdev for the Kd value\n",
    "# a z-score filter is implemented within this function\n",
    "mutant_fit_df = group_chamber_fit_df(chamber_fit_df)\n",
    "mutant_fit_df"
   ]
  },
  {
   "cell_type": "markdown",
   "metadata": {},
   "source": [
    "## Fit a Kd to each chamber using a fixed Rmax value (optional)\n",
    "\n",
    "Applicable if you have variants in your experiment you were unable to saturate and therefore confidently determine Kd values. "
   ]
  },
  {
   "cell_type": "code",
   "execution_count": null,
   "metadata": {},
   "outputs": [],
   "source": [
    "tight_binders = ['H141R', 'Y157A'] # a list containing IDs for tight-binding variants\n",
    "tight_binder_fit_df = fit_kd_main(variants_to_fit=tight_binders)"
   ]
  },
  {
   "cell_type": "code",
   "execution_count": null,
   "metadata": {},
   "outputs": [],
   "source": [
    "# z-score filtering of rmax\n",
    "threshold = 3\n",
    "tight_binder_fit_df = pd.DataFrame(tight_binder_fit_df)\n",
    "tight_binder_fit_df['z'] = calculate_z_scores(tight_binder_fit_df['rmax'].to_numpy())\n",
    "tight_binder_fit_df = tight_binder_fit_df[tight_binder_fit_df['z'] < threshold]\n",
    "rmax, rmax_std = tight_binder_fit_df['rmax'].mean(), tight_binder_fit_df['rmax'].std()"
   ]
  },
  {
   "cell_type": "code",
   "execution_count": null,
   "metadata": {},
   "outputs": [],
   "source": [
    "# fit all chambers using value for rmax calculated above\n",
    "chamber_fit_df_individual = fit_kd_main(fixed_rmax=rmax)\n",
    "mutant_fit_df_individual = group_chamber_fit_df(chamber_fit_df_individual)\n",
    "mutant_fit_df_individual"
   ]
  }
 ],
 "metadata": {
  "kernelspec": {
   "display_name": "enzymology",
   "language": "python",
   "name": "python3"
  },
  "language_info": {
   "codemirror_mode": {
    "name": "ipython",
    "version": 3
   },
   "file_extension": ".py",
   "mimetype": "text/x-python",
   "name": "python",
   "nbconvert_exporter": "python",
   "pygments_lexer": "ipython3",
   "version": "3.9.12"
  }
 },
 "nbformat": 4,
 "nbformat_minor": 2
}
