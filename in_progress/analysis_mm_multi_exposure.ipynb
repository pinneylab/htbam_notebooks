{
 "cells": [
  {
   "cell_type": "markdown",
   "metadata": {},
   "source": [
    "# Analysis Template: Michaelis-Menten Kinetics\n",
    "Updated 5/7/24 DFM"
   ]
  },
  {
   "cell_type": "code",
   "execution_count": null,
   "metadata": {},
   "outputs": [],
   "source": [
    "#enables autoreloding of modules\n",
    "%load_ext autoreload\n",
    "%autoreload 2\n",
    "\n",
    "from htbam_db_api.htbam_db_api import LocalHtbamDBAPI\n",
    "from htbam_analysis.analysis.experiment import HTBAMExperiment\n",
    "\n",
    "#enable inline plotting of matplotlib figures\n",
    "%matplotlib inline\n",
    "\n",
    "#set the figure format to SVG\n",
    "%config InlineBackend.figure_format = 'svg'"
   ]
  },
  {
   "cell_type": "markdown",
   "metadata": {},
   "source": [
    "## 1. Connect DB Api"
   ]
  },
  {
   "cell_type": "code",
   "execution_count": null,
   "metadata": {},
   "outputs": [],
   "source": [
    "### PARAMETERS:\n",
    "EGFP_SLOPE = 91900.03\n",
    "EGFP_SLOPE_CONC_UNITS = 'nM' #RFU/nM\n",
    "\n",
    "root = '/Volumes/DuncanSSD/20240513/data_analysis/'\n",
    "db_conn = LocalHtbamDBAPI(standard_curve_data_path= root + 'd1_NADPH_250ms_StandardSeries_Analysis.csv', standard_name=\"NADPH\", standard_substrate=\"NADPH\", standard_units=\"uM\",\n",
    "                         kinetic_data_path= root+ 'd1_250ms_TitrationSeries_Analysis.csv', kinetic_name=\"ADP\", kinetic_substrate=\"ADP\", kinetic_units=\"uM\")\n",
    "\n",
    "htbam_experiment = HTBAMExperiment(db_conn)"
   ]
  },
  {
   "cell_type": "code",
   "execution_count": null,
   "metadata": {},
   "outputs": [],
   "source": [
    "db_conn.add_run_data(run_type=\"standard\", data_path=root+\"d1_NADPH_500ms_StandardSeries_Analysis.csv\", run_name=\"NADPH_500ms\", run_substrate=\"NADPH\", run_units=\"uM\")\n",
    "db_conn.add_run_data(run_type=\"standard\", data_path=root+\"d1_NADPH_1000ms_StandardSeries_Analysis.csv\", run_name=\"NADPH_1000ms\", run_substrate=\"NADPH\", run_units=\"uM\")"
   ]
  },
  {
   "cell_type": "code",
   "execution_count": null,
   "metadata": {},
   "outputs": [],
   "source": [
    "db_conn.add_run_data(run_type=\"kinetic\", data_path=root+\"d1_500ms_TitrationSeries_Analysis.csv\", run_name=\"ADP_500ms\", run_substrate=\"ADP\", run_units=\"uM\")\n",
    "db_conn.add_run_data(run_type=\"kinetic\", data_path=root+\"d1_1000ms_TitrationSeries_Analysis.csv\", run_name=\"ADP_1000ms\", run_substrate=\"ADP\", run_units=\"uM\")"
   ]
  },
  {
   "cell_type": "markdown",
   "metadata": {},
   "source": [
    "## 2. Standards"
   ]
  },
  {
   "cell_type": "code",
   "execution_count": null,
   "metadata": {},
   "outputs": [],
   "source": [
    "htbam_experiment.fit_standard_curve('standard_0')\n",
    "htbam_experiment.fit_standard_curve('standard_1')\n",
    "htbam_experiment.fit_standard_curve('standard_2', high_conc_idx=-1)\n"
   ]
  },
  {
   "cell_type": "code",
   "execution_count": null,
   "metadata": {},
   "outputs": [],
   "source": [
    "htbam_experiment.plot_standard_curve_chip('standard_2')"
   ]
  },
  {
   "cell_type": "markdown",
   "metadata": {},
   "source": [
    "## 3. Fit Initial Rates"
   ]
  },
  {
   "cell_type": "code",
   "execution_count": null,
   "metadata": {},
   "outputs": [],
   "source": [
    "htbam_experiment.fit_initial_rates('kinetic_0', \n",
    "                                   'standard_0',\n",
    "                                   max_rxn_perc=20,\n",
    "                                   starting_timepoint_index=0,\n",
    "                                   max_rxn_time=200,\n",
    "                                   #substrate_conc=60 # Only specified if you have a fixed substrate concentration\n",
    "                                   )\n",
    "\n"
   ]
  },
  {
   "cell_type": "code",
   "execution_count": null,
   "metadata": {},
   "outputs": [],
   "source": [
    "htbam_experiment.plot_initial_rates_chip('kinetic_0', \n",
    "    time_to_plot=.5, \n",
    "    )"
   ]
  },
  {
   "cell_type": "code",
   "execution_count": null,
   "metadata": {},
   "outputs": [],
   "source": [
    "htbam_experiment.fit_initial_rates('kinetic_1', \n",
    "                                   'standard_1',\n",
    "                                   max_rxn_perc=20,\n",
    "                                   starting_timepoint_index=0,\n",
    "                                   max_rxn_time=200,\n",
    "                                   #substrate_conc=60 # Only specified if you have a fixed substrate concentration\n",
    "                                   )\n",
    "\n"
   ]
  },
  {
   "cell_type": "code",
   "execution_count": null,
   "metadata": {},
   "outputs": [],
   "source": [
    "htbam_experiment.plot_initial_rates_chip('kinetic_1', \n",
    "    time_to_plot=.5, \n",
    "    )"
   ]
  },
  {
   "cell_type": "code",
   "execution_count": null,
   "metadata": {},
   "outputs": [],
   "source": [
    "htbam_experiment.fit_initial_rates('kinetic_2', \n",
    "                                   'standard_2',\n",
    "                                   max_rxn_perc=20,\n",
    "                                   starting_timepoint_index=0,\n",
    "                                   max_rxn_time=200,\n",
    "                                   #substrate_conc=60 # Only specified if you have a fixed substrate concentration\n",
    "                                   )\n",
    "\n"
   ]
  },
  {
   "cell_type": "code",
   "execution_count": null,
   "metadata": {},
   "outputs": [],
   "source": [
    "htbam_experiment.plot_initial_rates_chip('kinetic_2', \n",
    "    time_to_plot=.5, \n",
    "    )"
   ]
  },
  {
   "cell_type": "markdown",
   "metadata": {},
   "source": [
    "## 4. Filter initial rates"
   ]
  },
  {
   "cell_type": "code",
   "execution_count": null,
   "metadata": {},
   "outputs": [],
   "source": [
    "htbam_experiment.compute_enzyme_concentration('kinetic_0', EGFP_SLOPE)\n",
    "htbam_experiment.compute_enzyme_concentration('kinetic_1', EGFP_SLOPE)\n",
    "htbam_experiment.compute_enzyme_concentration('kinetic_2', EGFP_SLOPE)"
   ]
  },
  {
   "cell_type": "code",
   "execution_count": null,
   "metadata": {},
   "outputs": [],
   "source": [
    "htbam_experiment.filter_initial_rates('kinetic_0',\n",
    "                                      'standard_0',\n",
    "                                      standard_curve_r2_cutoff = 0.98,\n",
    "                                      expression_threshold = 1.0,\n",
    "                                      initial_rate_R2_threshold = 0.5, \n",
    "                                      positive_initial_slope_filter = True)"
   ]
  },
  {
   "cell_type": "code",
   "execution_count": null,
   "metadata": {},
   "outputs": [],
   "source": [
    "htbam_experiment.filter_initial_rates('kinetic_1',\n",
    "                                      'standard_1',\n",
    "                                      standard_curve_r2_cutoff = 0.98,\n",
    "                                      expression_threshold = 1.0,\n",
    "                                      initial_rate_R2_threshold = 0.5, \n",
    "                                      positive_initial_slope_filter = True)"
   ]
  },
  {
   "cell_type": "code",
   "execution_count": null,
   "metadata": {},
   "outputs": [],
   "source": [
    "htbam_experiment.filter_initial_rates('kinetic_2',\n",
    "                                      'standard_2',\n",
    "                                      standard_curve_r2_cutoff = 0.98,\n",
    "                                      expression_threshold = 1.0,\n",
    "                                      initial_rate_R2_threshold = 0.5, \n",
    "                                      positive_initial_slope_filter = True)"
   ]
  },
  {
   "cell_type": "code",
   "execution_count": null,
   "metadata": {},
   "outputs": [],
   "source": [
    "htbam_experiment.plot_filtered_initial_rates_chip('kinetics_0')"
   ]
  },
  {
   "cell_type": "code",
   "execution_count": null,
   "metadata": {},
   "outputs": [],
   "source": [
    "htbam_experiment.combine_filtered_assays(['kinetic_0', 'kinetic_1', 'kinetic_2'])"
   ]
  },
  {
   "cell_type": "code",
   "execution_count": null,
   "metadata": {},
   "outputs": [],
   "source": [
    "htbam_experiment.remove_run('kinetic_3')"
   ]
  },
  {
   "cell_type": "markdown",
   "metadata": {},
   "source": [
    "## 5. Fit Michaelis-Menten:"
   ]
  },
  {
   "cell_type": "code",
   "execution_count": null,
   "metadata": {},
   "outputs": [],
   "source": [
    "substrate_conc_unit = htbam_experiment.get_concentration_units('standard_0')\n",
    "if  substrate_conc_unit != EGFP_SLOPE_CONC_UNITS: print('Substrate concentration units do not match EGFP standard curve units! \\n{} != {}'.format(substrate_conc_unit, EGFP_SLOPE_CONC_UNITS))\n",
    "\n",
    "unit_converstion = 0.001 #convert FROM eGFP units TO substrate units (in this case, nM to uM)\n"
   ]
  },
  {
   "cell_type": "code",
   "execution_count": null,
   "metadata": {},
   "outputs": [],
   "source": [
    "htbam_experiment.fit_mm('kinetic_3', enzyme_conc_conversion=unit_converstion)"
   ]
  },
  {
   "cell_type": "code",
   "execution_count": null,
   "metadata": {},
   "outputs": [],
   "source": [
    "htbam_experiment.filter_mm('kinetic_3',\n",
    "                            z_score_threshold_mm = 1.5,\n",
    "                            z_score_threshold_expression = 1.5,\n",
    "                            save_intermediate_data = False)"
   ]
  },
  {
   "cell_type": "code",
   "execution_count": null,
   "metadata": {},
   "outputs": [],
   "source": [
    "htbam_experiment.plot_filtered_mm('kinetic_3', \n",
    "                                  enzyme_conc_conversion=unit_converstion,\n",
    "                                  show_average_fit=True)"
   ]
  },
  {
   "cell_type": "markdown",
   "metadata": {},
   "source": [
    "## 6. Export to CSV"
   ]
  },
  {
   "cell_type": "code",
   "execution_count": null,
   "metadata": {},
   "outputs": [],
   "source": [
    "htbam_experiment.export_mm_result_csv(path_to_save=root,\n",
    "                                        run_name='kinetics_0')"
   ]
  },
  {
   "cell_type": "code",
   "execution_count": null,
   "metadata": {},
   "outputs": [],
   "source": []
  }
 ],
 "metadata": {
  "kernelspec": {
   "display_name": "Python 3 (ipykernel)",
   "language": "python",
   "name": "python3"
  },
  "language_info": {
   "codemirror_mode": {
    "name": "ipython",
    "version": 3
   },
   "file_extension": ".py",
   "mimetype": "text/x-python",
   "name": "python",
   "nbconvert_exporter": "python",
   "pygments_lexer": "ipython3",
   "version": "3.9.19"
  }
 },
 "nbformat": 4,
 "nbformat_minor": 4
}
