{
 "cells": [
  {
   "cell_type": "markdown",
   "metadata": {},
   "source": [
    "# Image Stitching Template\n",
    "___\n",
    "### Version 0.2.1\n",
    "Duncan Muir"
   ]
  },
  {
   "cell_type": "code",
   "execution_count": 1,
   "metadata": {},
   "outputs": [],
   "source": [
    "%load_ext autoreload\n",
    "%autoreload 2"
   ]
  },
  {
   "cell_type": "code",
   "execution_count": 2,
   "metadata": {},
   "outputs": [],
   "source": [
    "from htbam_analysis.stitching import scripts, rastering, stitching_settings, background_images\n",
    "import jax\n",
    "jax.default_device = jax.devices('cpu')[0]"
   ]
  },
  {
   "cell_type": "markdown",
   "metadata": {},
   "source": [
    "# 1. Stitching\n",
    "___"
   ]
  },
  {
   "cell_type": "markdown",
   "metadata": {},
   "source": [
    "## Stitching Setting"
   ]
  },
  {
   "cell_type": "code",
   "execution_count": null,
   "metadata": {},
   "outputs": [],
   "source": [
    "# Settings for stitching\n",
    "settings = stitching_settings.StitchingSettings(\n",
    "    setup_num = 1,\n",
    "    tile_dim = 1600\n",
    "    )"
   ]
  },
  {
   "cell_type": "markdown",
   "metadata": {},
   "source": [
    "## Button Quant"
   ]
  },
  {
   "cell_type": "code",
   "execution_count": null,
   "metadata": {
    "scrolled": true
   },
   "outputs": [],
   "source": [
    "# Path to folder containing background images\n",
    "button_bkgd_folder = '/path/to/background/folder'\n",
    "\n",
    "# Path to folder containing button images\n",
    "button_folder = '/path/to/button/folder'\n",
    "\n",
    "\n",
    "\n",
    "# Parameters for button quant stitching\n",
    "bg_button_param = rastering.raster_params.RasterParams(\n",
    "    overlap=0.1, # 10% overlap\n",
    "    size=1600, # 800x800 pixel tiles\n",
    "    acqui_ori=(True, False),\n",
    "    rotation = -0.6, # valid as of 2023-12-01\n",
    "    auto_ff = True,\n",
    "    ff_type = 'BaSiC'\n",
    "    )"
   ]
  },
  {
   "cell_type": "code",
   "execution_count": null,
   "metadata": {},
   "outputs": [],
   "source": [
    "# run background stitching\n",
    "scripts.walk_and_stitch(path=button_bkgd_folder,\n",
    "    stitch_settings=settings, \n",
    "    params=bg_button_param,\n",
    "    stitch_type = 'single')\n",
    "\n",
    "# run button stitching\n",
    "scripts.walk_and_stitch(path=button_folder,\n",
    "    stitch_settings=settings, \n",
    "    params=bg_button_param,\n",
    "    stitch_type = 'single')"
   ]
  },
  {
   "cell_type": "markdown",
   "metadata": {},
   "source": [
    "# Kinetics"
   ]
  },
  {
   "cell_type": "code",
   "execution_count": null,
   "metadata": {},
   "outputs": [],
   "source": [
    "kin_std_param = rastering.raster_params.RasterParams(\n",
    "    overlap=0.1, # 10% overlap\n",
    "    size=1600, # 800x800 pixel tiles\n",
    "    acqui_ori=(True, False),\n",
    "    rotation = -0.6\n",
    "    )"
   ]
  },
  {
   "cell_type": "code",
   "execution_count": null,
   "metadata": {
    "scrolled": true
   },
   "outputs": [],
   "source": [
    "# Path to folder containing kinetics background images\n",
    "kinetics_bkgd_folder = '/path/to/background/folder'\n",
    "# Path to folder containing kinetics images\n",
    "kinetics_path = '/path/to/kinetics/folder'"
   ]
  },
  {
   "cell_type": "code",
   "execution_count": null,
   "metadata": {},
   "outputs": [],
   "source": [
    "# run kinetics background stitching\n",
    "scripts.walk_and_stitch(path=kinetics_bkgd_folder,\n",
    "    stitch_settings=settings, \n",
    "    params=kin_std_param, \n",
    "    stitch_type = 'kinetic')\n",
    "\n",
    "# run kinetics stitching\n",
    "scripts.walk_and_stitch(path=kinetics_path,\n",
    "    stitch_settings=settings, \n",
    "    params=kin_std_param, \n",
    "    stitch_type = 'kinetic')"
   ]
  },
  {
   "cell_type": "markdown",
   "metadata": {},
   "source": [
    "## Standard Curve "
   ]
  },
  {
   "cell_type": "code",
   "execution_count": null,
   "metadata": {},
   "outputs": [],
   "source": [
    "standard_path = '/Path/to/standard/folder'\n",
    "\n",
    "# NOTE: Make Sure to Follow This Exact Format!\n",
    "# ('1_5625{conc_unit}_{FP_name}', '1_5625')\n",
    "# Both values are strings, replace {conc_unit} with the unit of concentration,\n",
    "# and replace {FP_name} with the name of the FP.\n",
    "# i.e.,\n",
    "# handles = [('3_90625uM_NADPH', \"3_90625\"), \n",
    "#            ('7_8125uM_NADPH', \"7_8125\"), \n",
    "#            ('15_625uM_NADPH', \"15_625\"), \n",
    "#            ('31_25uM_NADPH', \"31_25\"), \n",
    "#            ('62_5uM_NADPH', \"62_5\"),\n",
    "#            ('125uM_NADPH', \"125\"),\n",
    "#            ('250uM_NADPH', \"250\"),\n",
    "#            ('500uM_NADPH', \"500\")]\n",
    "\n",
    "\n",
    "handles = [('3_90625uM_NADPH', \"3_90625\"), \n",
    "           ('7_8125uM_NADPH', \"7_8125\"), \n",
    "           ('15_625uM_NADPH', \"15_625\"), \n",
    "           ('31_25uM_NADPH', \"31_25\"), \n",
    "           ('62_5uM_NADPH', \"62_5\"),\n",
    "           ('125uM_NADPH', \"125\"),\n",
    "           ('250uM_NADPH', \"250\"),\n",
    "           ('500uM_NADPH', \"500\")]"
   ]
  },
  {
   "cell_type": "code",
   "execution_count": null,
   "metadata": {},
   "outputs": [],
   "source": [
    "# run standard stitching\n",
    "scripts.stitch_standard(standard_path,\n",
    "                        kin_std_param, \n",
    "                        handles)"
   ]
  },
  {
   "cell_type": "markdown",
   "metadata": {},
   "source": [
    "# 2. Background Subtraction\n",
    "___"
   ]
  },
  {
   "cell_type": "code",
   "execution_count": 10,
   "metadata": {},
   "outputs": [],
   "source": [
    "bg = background_images.BackgroundImages()"
   ]
  },
  {
   "cell_type": "code",
   "execution_count": null,
   "metadata": {},
   "outputs": [],
   "source": [
    "device = \"1\"\n",
    "\n",
    "button_quant_channel = \"2\"\n",
    "button_quant_exposure = 1000\n",
    "\n",
    "kinetic_channel = \"4\"\n",
    "kinetic_exposure = 10"
   ]
  },
  {
   "cell_type": "markdown",
   "metadata": {},
   "source": [
    "#### Define paths and add to the backgrounds"
   ]
  },
  {
   "cell_type": "code",
   "execution_count": null,
   "metadata": {},
   "outputs": [],
   "source": [
    "# Reference Background Images:\n",
    "\n",
    "# button_quant_background\n",
    "button_quant_background_img = \"/path/to/stiched/button/quant/background/image\"\n",
    "bg.add(button_quant_background_img, \n",
    "       device, \n",
    "       button_quant_channel, \n",
    "       button_quant_exposure\n",
    "       )\n",
    "\n",
    "# kinetics_background\n",
    "kinetics_background_img = \"/path/to/stiched/kinetics/background/image\"\n",
    "bg.add(kinetics_background_img, \n",
    "       device, \n",
    "       kinetic_channel, \n",
    "       kinetic_exposure\n",
    "       )"
   ]
  },
  {
   "cell_type": "markdown",
   "metadata": {},
   "source": [
    "#### Define target and execute"
   ]
  },
  {
   "cell_type": "code",
   "execution_count": 18,
   "metadata": {},
   "outputs": [],
   "source": [
    "button_quant_target = '/path/to/stiched/button/quant/target/image/folder'\n",
    "\n",
    "bg.walk_and_bg_subtract(button_quant_target, \n",
    "                        device, \n",
    "                        button_quant_channel)"
   ]
  },
  {
   "cell_type": "code",
   "execution_count": null,
   "metadata": {},
   "outputs": [],
   "source": [
    "kinetic_target = '/path/to/stiched/kinetics/target/image/folder'\n",
    "\n",
    "bg.walk_and_bg_subtract(kinetic_target,\n",
    "                        device, \n",
    "                        kinetic_channel)"
   ]
  },
  {
   "cell_type": "code",
   "execution_count": null,
   "metadata": {},
   "outputs": [],
   "source": [
    "standard_target = '/path/to/stiched/standard/target/image/folder'\n",
    "\n",
    "bg.walk_and_bg_subtract(standard_target,\n",
    "                        device, \n",
    "                        kinetic_channel)"
   ]
  }
 ],
 "metadata": {
  "kernelspec": {
   "display_name": "Python 3.9.12 ('htbam')",
   "language": "python",
   "name": "python3"
  },
  "language_info": {
   "codemirror_mode": {
    "name": "ipython",
    "version": 3
   },
   "file_extension": ".py",
   "mimetype": "text/x-python",
   "name": "python",
   "nbconvert_exporter": "python",
   "pygments_lexer": "ipython3",
   "version": "3.9.18"
  },
  "vscode": {
   "interpreter": {
    "hash": "c9d5eb981a451804117bbb533ea06cb0ae54737992d6851237fb03142364cb8b"
   }
  }
 },
 "nbformat": 4,
 "nbformat_minor": 4
}
