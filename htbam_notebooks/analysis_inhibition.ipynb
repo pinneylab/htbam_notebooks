{
 "cells": [
  {
   "cell_type": "markdown",
   "metadata": {},
   "source": [
    "# Analysis Template: Inhibition\n",
    "Updated 5/6/24 DFM"
   ]
  },
  {
   "cell_type": "code",
   "execution_count": null,
   "metadata": {},
   "outputs": [],
   "source": [
    "#enables autoreloding of modules\n",
    "%load_ext autoreload\n",
    "%autoreload 2\n",
    "\n",
    "from htbam_db_api.htbam_db_api import LocalHtbamDBAPI\n",
    "from htbam_analysis.analysis.experiment import HTBAMExperiment\n",
    "\n",
    "#enable inline plotting of matplotlib figures\n",
    "%matplotlib inline\n",
    "\n",
    "#set the figure format to SVG\n",
    "%config InlineBackend.figure_format = 'svg'"
   ]
  },
  {
   "cell_type": "markdown",
   "metadata": {},
   "source": [
    "## 1. Connect DB Api"
   ]
  },
  {
   "cell_type": "code",
   "execution_count": null,
   "metadata": {},
   "outputs": [],
   "source": [
    "### PARAMETERS:\n",
    "EGFP_SLOPE = 91900.03\n",
    "EGFP_SLOPE_CONC_UNITS = 'nM' #RFU/nM\n",
    "\n",
    "root = '/Users/duncanmuir/Downloads/20240429-IC50/'\n",
    "db_conn = LocalHtbamDBAPI(standard_curve_data_path= root + 'd1_2_StandardSeries_Analysis.csv', standard_name=\"Mpro_std\", standard_substrate=\"IDK\", standard_units=\"uM\",\n",
    "                         kinetic_data_path= root+ 'd1_TitrationSeries_Analysis.csv', kinetic_name=\"IDK\", kinetic_substrate=\"IDK\", kinetic_units=\"uM\")\n",
    "\n",
    "htbam_experiment = HTBAMExperiment(db_conn)"
   ]
  },
  {
   "cell_type": "markdown",
   "metadata": {},
   "source": [
    "## 2. Standards"
   ]
  },
  {
   "cell_type": "code",
   "execution_count": null,
   "metadata": {},
   "outputs": [],
   "source": [
    "htbam_experiment.fit_standard_curve('standard_0')"
   ]
  },
  {
   "cell_type": "code",
   "execution_count": null,
   "metadata": {},
   "outputs": [],
   "source": [
    "htbam_experiment.plot_standard_curve_chip('standard_0')"
   ]
  },
  {
   "cell_type": "markdown",
   "metadata": {},
   "source": [
    "## 3. Fit Initial Rates"
   ]
  },
  {
   "cell_type": "code",
   "execution_count": null,
   "metadata": {},
   "outputs": [],
   "source": [
    "htbam_experiment.fit_initial_rates('kinetic_0', \n",
    "                                   'standard_0',\n",
    "                                   max_rxn_perc=10,\n",
    "                                   starting_timepoint_index=1,\n",
    "                                   max_rxn_time=150,\n",
    "                                   substrate_conc=60 # Only specified if you have a fixed substrate concentration\n",
    "                                   )\n",
    "\n"
   ]
  },
  {
   "cell_type": "code",
   "execution_count": null,
   "metadata": {},
   "outputs": [],
   "source": [
    "htbam_experiment.plot_initial_rates_chip('kinetic_0', time_to_plot=.5)"
   ]
  },
  {
   "cell_type": "markdown",
   "metadata": {},
   "source": [
    "## 4. Filter initial rates"
   ]
  },
  {
   "cell_type": "code",
   "execution_count": null,
   "metadata": {},
   "outputs": [],
   "source": [
    "htbam_experiment.compute_enzyme_concentration('kinetic_0', EGFP_SLOPE)"
   ]
  },
  {
   "cell_type": "code",
   "execution_count": null,
   "metadata": {},
   "outputs": [],
   "source": [
    "htbam_experiment.filter_initial_rates('kinetic_0',\n",
    "                                      'standard_0',\n",
    "                                      standard_curve_r2_cutoff = 0.98,\n",
    "                                      expression_threshold = 1.0,\n",
    "                                      initial_rate_R2_threshold = 0.0, \n",
    "                                      positive_initial_slope_filter = False)"
   ]
  },
  {
   "cell_type": "code",
   "execution_count": null,
   "metadata": {},
   "outputs": [],
   "source": [
    "htbam_experiment.plot_filtered_initial_rates_chip('kinetic_0')"
   ]
  },
  {
   "cell_type": "markdown",
   "metadata": {},
   "source": [
    "## 5. Fit Inhibition Constant:"
   ]
  },
  {
   "cell_type": "code",
   "execution_count": null,
   "metadata": {},
   "outputs": [],
   "source": [
    "# NOTE: This will matter for michaelis-menten, but I am leaving it for now to fit IC50s\n",
    "# substrate_conc_unit = db_conn._json_dict['runs']['kinetics_0']['conc_unit']\n",
    "# if  substrate_conc_unit != EGFP_SLOPE_CONC_UNITS: print('Substrate concentration units do not match EGFP standard curve units! \\n{} != {}'.format(substrate_conc_unit, EGFP_SLOPE_CONC_UNITS))\n",
    "\n",
    "# unit_converstion = 0.001 #convert FROM eGFP units TO substrate units (in this case, nM to uM)\n",
    "# enzyme_concentration_converted_units = enzyme_concentration * unit_converstion\n",
    "\n",
    "# #Double check!\n",
    "# print('Conversion:')\n",
    "# print('{} {} = {} {}  ?'.format(enzyme_concentration[0], EGFP_SLOPE_CONC_UNITS, enzyme_concentration_converted_units[0], substrate_conc_unit))"
   ]
  },
  {
   "cell_type": "code",
   "execution_count": null,
   "metadata": {},
   "outputs": [],
   "source": [
    "htbam_experiment.fit_ic50s('kinetic_0')"
   ]
  },
  {
   "cell_type": "code",
   "execution_count": null,
   "metadata": {},
   "outputs": [],
   "source": [
    "htbam_experiment.filter_ic50s('kinetic_0',\n",
    "                              z_score_threshold_ic50 = 1.5,\n",
    "                              z_score_threshold_expression = 1.5,\n",
    "                               save_intermediate_data = False)"
   ]
  },
  {
   "cell_type": "code",
   "execution_count": null,
   "metadata": {},
   "outputs": [],
   "source": [
    "htbam_experiment.plot_filtered_ic50('kinetic_0', show_average_fit=True)"
   ]
  },
  {
   "cell_type": "markdown",
   "metadata": {},
   "source": [
    "## 6. Export to CSV"
   ]
  },
  {
   "cell_type": "code",
   "execution_count": null,
   "metadata": {},
   "outputs": [],
   "source": [
    "htbam_experiment.export_ic50_result_csv(path_to_save=root,\n",
    "                                        run_name='kinetics_0')"
   ]
  }
 ],
 "metadata": {
  "kernelspec": {
   "display_name": "Python 3 (ipykernel)",
   "language": "python",
   "name": "python3"
  },
  "language_info": {
   "codemirror_mode": {
    "name": "ipython",
    "version": 3
   },
   "file_extension": ".py",
   "mimetype": "text/x-python",
   "name": "python",
   "nbconvert_exporter": "python",
   "pygments_lexer": "ipython3",
   "version": "3.9.19"
  }
 },
 "nbformat": 4,
 "nbformat_minor": 4
}
